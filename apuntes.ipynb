{
 "cells": [
  {
   "cell_type": "markdown",
   "metadata": {},
   "source": [
    "# Curso de Programacion Orientada a Objetos\n",
    "\n",
    "instructor: Anahi Salgado Diaz\n",
    "\n",
    "@anncode"
   ]
  },
  {
   "cell_type": "markdown",
   "metadata": {},
   "source": [
    "*Objetivos*\n",
    "\n",
    "-   Vas a programar más rápido. Tener un análisis previo de lo que estás realizando te ayudará a generar código mucho más veloz\n",
    "\n",
    "-   Dejas de ser Programador Jr. Podrás responder preguntas como ¿Qué es encapsulamiento?, ¿Qué es Abstracción?, ¿Qué es Herencia?, ¿Qué es Polimorfismo? en futuras entrevistas de trabajo\n",
    "\n",
    "-   Dejar de Copiar y Pegar Código."
   ]
  },
  {
   "cell_type": "markdown",
   "metadata": {},
   "source": [
    "# Bienvenida e Introducion\n",
    "\n",
    "## Que resuelve la POO"
   ]
  },
  {
   "cell_type": "markdown",
   "metadata": {},
   "source": [
    "La programación Orientada a Objetos nace de los problemas creados por la *programación estructurada* y nos ayuda a resolver cierto problemas como:\n",
    "\n",
    "*Código muy largo*: A medida que un sistema va creciendo y se hace más robusta el código generado se vuelve muy extenso haciéndose difícil de leer, depurar, mantener.\n",
    "\n",
    "*Si algo falla, todo se rompe*: Ya que con la programación estructurada el código se ejecuta secuencialmente al momento de que una de esas líneas fallara todo lo demás deja de funcionar.\n",
    "\n",
    "*Difícil de mantener*: codigo spagueti: if else, condicionales anidados"
   ]
  },
  {
   "cell_type": "markdown",
   "metadata": {},
   "source": [
    "## Paradigma Orientado a Objetos"
   ]
  },
  {
   "cell_type": "markdown",
   "metadata": {},
   "source": [
    "La Programación Orientada a Objetos viene de una filosofía o forma de pensar que es la *Orientación a Objetos* y esto surge a partir de los problemas que necesitamos plasmar en código.\n",
    "\n",
    "Es analizar un problema en forma de objetos para después llevarlo a código, eso es la Orientación a Objetos.\n",
    "\n",
    "Un paradigma es una teoría que suministra la base y modelo para resolver problemas. La paradigma de Programación Orientada a Objetos se compone de **4 elementos**:\n",
    "\n",
    "- Clases\n",
    "- Propiedades\n",
    "- Métodos\n",
    "- Objetos\n",
    "\n",
    "\n",
    "Y **4 Pilares**:\n",
    "\n",
    "- Encapsulamiento\n",
    "- Abstracción\n",
    "- Herencia\n",
    "- Polimorfismo"
   ]
  },
  {
   "cell_type": "markdown",
   "metadata": {},
   "source": [
    "## Lenguajes orientados a Objetos\n",
    "\n",
    "Entorno de desarrolllo Visual Studio Code\n",
    "\n",
    "Java:\n",
    "\n",
    "    – Orientado a Objetos naturalmente\n",
    "    – Es muy útilizado en Android\n",
    "    – Y es usado del lado del servidor o Server Side\n",
    "\n",
    "PHP\n",
    "\n",
    "    – Lenguaje interpretado\n",
    "    – Pensado para la Web\n",
    "\n",
    "Python\n",
    "\n",
    "    – Diseñado para ser fácil de usar\n",
    "    – Múltiples usos: Web, Server Side, Análisis de Datos, Machine Learning, etc\n",
    "\n",
    "Javascript\n",
    "\n",
    "    – Lenguaje interpretado\n",
    "    – Orientado a Objetos pero basado en prototipos\n",
    "    – Pensado para la Web\n",
    "\n",
    "C# (C Sharp)\n",
    "\n",
    "Ruby\n",
    "\n",
    "Kotlin"
   ]
  },
  {
   "cell_type": "markdown",
   "metadata": {},
   "source": [
    "## Diagramas de Modelado\n",
    "\n",
    "Existen principalmente: \n",
    "- OMT: Object Modelling Technique(Metodologia para el analisis orientado a objetos)(1991)\n",
    "    - Solo diagramas de clases y objetos\n",
    "\n",
    "\n",
    "- UML: Unified Modelling Language(Lenguaje de Modelado Unificado)(1997) + Moderno:  \n",
    "    - Tenemos más opciones de diagramas como lo son Clases, Casos de Uso, Objetos, Actividades, Iteración, Estados, Implementación."
   ]
  },
  {
   "cell_type": "markdown",
   "metadata": {},
   "source": [
    "# Orientacion a Objetos"
   ]
  },
  {
   "cell_type": "markdown",
   "metadata": {},
   "source": [
    "## Objetos\n",
    "\n",
    "Son aquellos que tienen propiedades y comportamientos, tambien seran sustantivos\n",
    "\n",
    "Pueden ser Físicos o Conceptuales   \n",
    "\n",
    "![](/home/carlos/1_P00/image_source/objeto.PNG)"
   ]
  },
  {
   "cell_type": "markdown",
   "metadata": {},
   "source": [
    "Las *Propiedades* también pueden llamarse *atributos* y estos también serán *SUSTANTIVOS*. Algunos atributos o propiedades son nombre, tamaño, forma, estado, etc. Son todas las características del objeto.\n",
    "\n",
    "        - Nombre, tamano, forma, estado\n",
    "\n",
    "Los *Comportamientos* serán todas las operaciones que el objeto puede hacer, suelen ser verbos o sustantivos y verbo. Algunos ejemplos pueden ser que el usuario pueda hacer login y logout."
   ]
  },
  {
   "cell_type": "markdown",
   "metadata": {},
   "source": [
    "![](/home/carlos/1_P00/image_source/ejem_obj.PNG)"
   ]
  },
  {
   "cell_type": "markdown",
   "metadata": {},
   "source": [
    "Veamo el ejemplo del perrito\n",
    "\n",
    "![](/home/carlos/1_P00/image_source/perro.PNG)"
   ]
  },
  {
   "cell_type": "markdown",
   "metadata": {},
   "source": [
    "## Abstraccion y clases\n",
    "\n",
    "Una Clase es el modelo por el cual nuestros objetos se van a construir y nos van a permitir generar más objetos.( UN MOLDE)\n",
    "\n",
    "Analizamos Objetos para crear Clases. Las Clases son los modelos sobres los cuales construiremos nuestros objetos.\n",
    "\n",
    "Abstracción es cuando separamos los datos de un objeto para generar un molde."
   ]
  }
 ],
 "metadata": {
  "language_info": {
   "name": "python"
  },
  "orig_nbformat": 4
 },
 "nbformat": 4,
 "nbformat_minor": 2
}
