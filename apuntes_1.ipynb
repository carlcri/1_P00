{
 "cells": [
  {
   "cell_type": "markdown",
   "metadata": {},
   "source": [
    "# Programacion orientada a objetos: analisis"
   ]
  },
  {
   "cell_type": "markdown",
   "metadata": {},
   "source": [
    "## Clases en UML y su sintaxis en codigo"
   ]
  },
  {
   "cell_type": "markdown",
   "metadata": {},
   "source": [
    "Despues del reto, se propone como plasmar las clases en un diagrama *UML*\n",
    "\n",
    "![](/home/carlos/1_P00/image_source/uml.PNG)\n"
   ]
  },
  {
   "cell_type": "markdown",
   "metadata": {},
   "source": [
    "Por ejemplo la clase Persona se representaria asi:\n",
    "\n",
    "![](/home/carlos/1_P00/image_source/person.PNG)"
   ]
  },
  {
   "cell_type": "markdown",
   "metadata": {},
   "source": [
    "Y posteriormente realizariamos la implementacion en codigo, dependiendo del lenguaje\n",
    "\n",
    "![](/home/carlos/1_P00/image_source/language.PNG)"
   ]
  },
  {
   "cell_type": "markdown",
   "metadata": {},
   "source": [
    "## Modelando Nuestros Objetos UBER"
   ]
  },
  {
   "cell_type": "markdown",
   "metadata": {},
   "source": [
    "## Que es la herencia\n",
    "\n",
    "![](/home/carlos/1_P00/image_source/repeat.PNG)"
   ]
  },
  {
   "cell_type": "markdown",
   "metadata": {},
   "source": [
    "Don’t repeat yourself es una filosofía que promueve la reducción de duplicación en programación, esto nos va a inculcar que no tengamos líneas de código duplicadas.\n",
    "\n",
    "Toda pieza de información nunca debería ser duplicada debido a que incrementa la dificultad en los cambios y evolución\n",
    "\n",
    "La herencia nos permite crear nuevas clases a partir de otras, se basa en modelos y conceptos de la vida real. También tenemos una jerarquía de padre e hijo."
   ]
  },
  {
   "cell_type": "markdown",
   "metadata": {},
   "source": [
    "![](/home/carlos/1_P00/image_source/super.PNG)"
   ]
  },
  {
   "cell_type": "markdown",
   "metadata": {},
   "source": [
    "Veamos un ejemplo de como implementar una superclase\n",
    "\n",
    "![](/home/carlos/1_P00/image_source/futbol.PNG)"
   ]
  },
  {
   "cell_type": "markdown",
   "metadata": {},
   "source": [
    "Al encontrar tantos elementos en comun estre estas clases, seria mejor crear una *superclase* y a partir de ella derivar las demas:\n",
    "\n",
    "![](/home/carlos/1_P00/image_source/futbol1.PNG)"
   ]
  },
  {
   "cell_type": "markdown",
   "metadata": {},
   "source": [
    "## Aplicando Herencia a nuestro proyecto Uber\n",
    "\n",
    "Se detectaran todos los atributos que sean redundates, comenzaremos con las clases User and Driver, como tienen tantos elementos en comun, generamos una nueva superclase llamada *Account*\n",
    "\n",
    "![](/home/carlos/1_P00/image_source/user_1.png)"
   ]
  },
  {
   "cell_type": "markdown",
   "metadata": {},
   "source": [
    "El segundo caso son las clases relacionadas con pagos, como son: Card, Paypal y Cash. En este caso NO tenemos atributos que se repitan o atributos que sean redudantes. Aqui aplicaremos la Herencia de una manera un poco distinta, como elementos que tienen cosas en comun, todos estos elementos en cuanto a su logica de negocio, pertenecen a una clase llamado Payments, y lo unico que contendra la superclase sera un ID, y eso sera absolutamente todo\n",
    "\n",
    "Aplicaremso la herencia solo por la logica de negocio\n",
    "\n",
    "![](/home/carlos/1_P00/image_source/payments.png)"
   ]
  },
  {
   "cell_type": "markdown",
   "metadata": {},
   "source": [
    "\n",
    "Uberx, UberBlack y los demas, comparten varios atributos en comun, es un poco obvio que es necesario una superclase: Car\n",
    "\n",
    "![](/home/carlos/1_P00/image_source/ubers.png)"
   ]
  },
  {
   "cell_type": "markdown",
   "metadata": {},
   "source": [
    "Se podria tambien,  crear otras dos clase una que sea CarBasic y tenga los atributos de brand y model, y otra que sea CarAdvanced que tenga typeCarAceppeted y seatsMaterail, estas dos clases heredarian de Car y las clases Uber* heredarian de CarBasic y CarAdvanced"
   ]
  },
  {
   "cell_type": "markdown",
   "metadata": {},
   "source": [
    "**Finalmente** se presenta un diagrama simplificado de lo que acabos de hacer"
   ]
  },
  {
   "cell_type": "markdown",
   "metadata": {},
   "source": [
    "![](/home/carlos/1_P00/image_source/simple.webp)\n",
    "\n"
   ]
  },
  {
   "cell_type": "markdown",
   "metadata": {},
   "source": [
    "## Reto 2\n",
    "\n",
    "Imagina que nuestro sistema de adopciones creció y ahora ofrece adoptar pericos, loros, gatos y hamsters.Genera un nuevo análisis, aplica herencia para abstraer mejor el problema y lograr modularidad en el software.\n",
    "\n",
    "\n",
    "Comparte tus resultados en la sección de discusiones. Aqui se muestra uno de los aportes destacados"
   ]
  },
  {
   "cell_type": "markdown",
   "metadata": {},
   "source": [
    "![](/home/carlos/1_P00/image_source/reto2.webp)"
   ]
  }
 ],
 "metadata": {
  "language_info": {
   "name": "python"
  },
  "orig_nbformat": 4
 },
 "nbformat": 4,
 "nbformat_minor": 2
}
