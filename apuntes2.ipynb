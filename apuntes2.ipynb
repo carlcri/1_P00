{
 "cells": [
  {
   "cell_type": "markdown",
   "metadata": {},
   "source": [
    "# Clases, Objetos y Metodo Constructor"
   ]
  },
  {
   "cell_type": "markdown",
   "metadata": {},
   "source": [
    "\n",
    "    sudo apt install openjdk-11-jdk\n",
    "\n",
    "Como en este modulo se empieza con las practicas en JAVA, crei era una muy buena idea instalar las dependencias necesaria, lo que no cai en cuenta era que despues de instalar el openjdk-11-jdk, el sistema se iba a poner lento, asi que trate de enmendar el error, desintalandolo, pero fue algo engorroso saber que era lo que iba a desinstalar:\n",
    "\n",
    "    sudo apt list --installed\n",
    "\n",
    "    apt list --manual-installed\n",
    "\n",
    "Finalmente use los siguientes comnandos para desintalar el tal JAVA\n",
    "\n",
    "     sudo apt remove openjdk-11-jdk\n",
    "\n",
    "     sudo apt autoremove\n",
    "\n",
    "Este ultimo, parece remueve los archivos de configuracion, asociados con el package: \"While installing some software, your package manager may download dependencies that are required to install a package properly. When it finishes installing a package, these dependencies will linger on your system but be unused. Therefore, it’s recommended to run the following command occasionally to remove any unused packages from your system.\"\n",
    "\n",
    "Y posteriormente desinstalle una extension llamada *Extension Pack for Java* que son cuatro en uno."
   ]
  },
  {
   "cell_type": "markdown",
   "metadata": {},
   "source": [
    "## Definiendo Clases en Java y Python\n",
    "\n",
    "ver los archivos en el Desktop. Para destacar, es muy util esta combinacion de teclas:\n",
    "\n",
    "    CTRL + ALT +SHIFT\n",
    "\n",
    "esto te dara un cursor muy grande para manipular varias lineas de codigo a la vez"
   ]
  },
  {
   "cell_type": "markdown",
   "metadata": {},
   "source": [
    "Se han creado las *superclases* en Java y Python, asi como el punto de entrada del programa, es decir los archivos *Main.java* y *main.py*.\n",
    "\n",
    "Y se verifican que esten corriendo(hola mundo)\n",
    "\n",
    "Destaco que para PYTHON la notacion es *lower camel case* es decir, la clase empieza con mayuscula, y el archivo donde se guarda es todo en minusculas."
   ]
  }
 ],
 "metadata": {
  "language_info": {
   "name": "python"
  },
  "orig_nbformat": 4
 },
 "nbformat": 4,
 "nbformat_minor": 2
}
